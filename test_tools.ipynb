{
 "cells": [
  {
   "attachments": {},
   "cell_type": "markdown",
   "metadata": {},
   "source": [
    "# Langchain Tool Bakeoff"
   ]
  },
  {
   "attachments": {},
   "cell_type": "markdown",
   "metadata": {},
   "source": [
    "XML file format:\n",
    "\n",
    "```xml\n",
    "<?xml version='1.0' encoding='utf-8'?>\n",
    "<TEI.2>\n",
    "   <teiHeader>\n",
    "      <metadata name=\"media\"></metadata>\n",
    "      <metadata name=\"author\"></metadata>\n",
    "      <metadata name=\"post_id\"></metadata>\n",
    "      <metadata name=\"year\"></metadata>\n",
    "      <metadata name=\"board\"></metadata>\n",
    "      <metadata name=\"title\"></metadata>\n",
    "   </teiHeader>\n",
    "   <text>\n",
    "      <body author=\"\">\n",
    "         <s>\n",
    "            <w type=\"\"></w> <!-- type=詞性標記 -->\n",
    "         </s>\n",
    "      </body>\n",
    "      <title author=\"\"></title>\n",
    "      <!-- c_type {pos: 推, neu: 箭頭, neg: 噓} -->\n",
    "      <comment author=\"\" c_type=\"\"></comment>\n",
    "   </text>\n",
    "</TEI.2>\n",
    "```"
   ]
  },
  {
   "cell_type": "code",
   "execution_count": null,
   "metadata": {},
   "outputs": [],
   "source": [
    "import json\n",
    "from pprint import pprint\n",
    "\n",
    "import tools\n"
   ]
  },
  {
   "cell_type": "code",
   "execution_count": null,
   "metadata": {},
   "outputs": [],
   "source": [
    "post_ids = json.loads(tools.GetPostIDsByDate().run(\"20200102\"))[:3]\n",
    "pprint(post_ids)\n",
    "for post_id in post_ids:\n",
    "    print(\"=\"*10)\n",
    "    print(f\"{tools.GetUpvoteCount().run(post_id)} - {tools.GetDownvoteCount().run(post_id)}\")\n",
    "    print(tools.GetPostTitle().run(post_id))\n",
    "    post_body = tools.GetPostBody().run(post_id)\n",
    "    pprint(post_body)\n",
    "    # summary = tools.getSummaryByContent(post_body)\n",
    "    # print(summary)\n",
    "    # print(\"\\n\".join(json.loads(GetPostBody().run(post_id))))"
   ]
  }
 ],
 "metadata": {
  "kernelspec": {
   "display_name": "cllt",
   "language": "python",
   "name": "python3"
  },
  "language_info": {
   "codemirror_mode": {
    "name": "ipython",
    "version": 3
   },
   "file_extension": ".py",
   "mimetype": "text/x-python",
   "name": "python",
   "nbconvert_exporter": "python",
   "pygments_lexer": "ipython3",
   "version": "3.9.16"
  },
  "orig_nbformat": 4
 },
 "nbformat": 4,
 "nbformat_minor": 2
}
