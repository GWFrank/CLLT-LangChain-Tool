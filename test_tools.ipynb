{
 "cells": [
  {
   "attachments": {},
   "cell_type": "markdown",
   "metadata": {},
   "source": [
    "# Langchain Tool Bakeoff"
   ]
  },
  {
   "attachments": {},
   "cell_type": "markdown",
   "metadata": {},
   "source": [
    "XML file format:\n",
    "\n",
    "```xml\n",
    "<?xml version='1.0' encoding='utf-8'?>\n",
    "<TEI.2>\n",
    "   <teiHeader>\n",
    "      <metadata name=\"media\"></metadata>\n",
    "      <metadata name=\"author\"></metadata>\n",
    "      <metadata name=\"post_id\"></metadata>\n",
    "      <metadata name=\"year\"></metadata>\n",
    "      <metadata name=\"board\"></metadata>\n",
    "      <metadata name=\"title\"></metadata>\n",
    "   </teiHeader>\n",
    "   <text>\n",
    "      <body author=\"\">\n",
    "         <s>\n",
    "            <w type=\"\"></w> <!-- type=詞性標記 -->\n",
    "         </s>\n",
    "      </body>\n",
    "      <title author=\"\"></title>\n",
    "      <!-- c_type {pos: 推, neu: 箭頭, neg: 噓} -->\n",
    "      <comment author=\"\" c_type=\"\"></comment>\n",
    "   </text>\n",
    "</TEI.2>\n",
    "```"
   ]
  },
  {
   "cell_type": "code",
   "execution_count": null,
   "metadata": {},
   "outputs": [],
   "source": [
    "import json\n",
    "from pprint import pprint\n",
    "import xml.etree.ElementTree as ET\n",
    "\n",
    "import tools\n"
   ]
  },
  {
   "cell_type": "code",
   "execution_count": null,
   "metadata": {},
   "outputs": [],
   "source": [
    "post_ids = json.loads(tools.GetPostIDsByDate().run(\"20200102\"))[:1]\n",
    "pprint(post_ids)\n",
    "for post_id in post_ids:\n",
    "    print(\"=\"*10)\n",
    "    filename = tools.findPostByID(post_id)\n",
    "\n",
    "    tree = ET.parse(filename)\n",
    "    # upvotes = tools.getFormattedCommentsOfType(tree, tools.CommentType.Upvote)\n",
    "    print(tools.getCommentStringsOfType(tree, tools.CommentType.Upvote))\n",
    "    # for upvote in upvotes:\n",
    "    #     for s in upvote.findall(\"./s\"):\n",
    "    #         print(\"\".join([w.text for w in s.findall(\"./w\")]))\n",
    "\n",
    "    \n",
    "    # print(f\"{tools.GetUpvoteCount().run(post_id)} 推 - {tools.GetDownvoteCount().run(post_id)} 噓 - {tools.GetArrowCount().run(post_id)} 箭頭\")\n",
    "    # print(tools.GetPostTitle().run(post_id))\n",
    "    # print(\"\\n\".join(json.loads(tools.GetPostBody().run(post_id))[:2]))\n"
   ]
  }
 ],
 "metadata": {
  "kernelspec": {
   "display_name": "cllt",
   "language": "python",
   "name": "python3"
  },
  "language_info": {
   "codemirror_mode": {
    "name": "ipython",
    "version": 3
   },
   "file_extension": ".py",
   "mimetype": "text/x-python",
   "name": "python",
   "nbconvert_exporter": "python",
   "pygments_lexer": "ipython3",
   "version": "3.9.16"
  },
  "orig_nbformat": 4
 },
 "nbformat": 4,
 "nbformat_minor": 2
}
