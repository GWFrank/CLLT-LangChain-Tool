{
 "cells": [
  {
   "attachments": {},
   "cell_type": "markdown",
   "metadata": {},
   "source": [
    "# Langchain Tool Bakeoff"
   ]
  },
  {
   "attachments": {},
   "cell_type": "markdown",
   "metadata": {},
   "source": [
    "XML file format:\n",
    "\n",
    "```xml\n",
    "<?xml version='1.0' encoding='utf-8'?>\n",
    "<TEI.2>\n",
    "   <teiHeader>\n",
    "      <metadata name=\"media\"></metadata>\n",
    "      <metadata name=\"author\"></metadata>\n",
    "      <metadata name=\"post_id\"></metadata>\n",
    "      <metadata name=\"year\"></metadata>\n",
    "      <metadata name=\"board\"></metadata>\n",
    "      <metadata name=\"title\"></metadata>\n",
    "   </teiHeader>\n",
    "   <text>\n",
    "      <body author=\"\">\n",
    "         <s>\n",
    "            <w type=\"\"></w> <!-- type=詞性標記 -->\n",
    "         </s>\n",
    "      </body>\n",
    "      <title author=\"\"></title>\n",
    "      <!-- c_type {pos: 推, neu: 箭頭, neg: 噓} -->\n",
    "      <comment author=\"\" c_type=\"\"></comment>\n",
    "   </text>\n",
    "</TEI.2>\n",
    "```"
   ]
  },
  {
   "cell_type": "code",
   "execution_count": null,
   "metadata": {},
   "outputs": [],
   "source": [
    "import json\n",
    "from pprint import pprint\n",
    "import xml.etree.ElementTree as ET\n",
    "\n",
    "from langchain import LLMMathChain, SerpAPIWrapper\n",
    "from langchain.agents import AgentType, initialize_agent\n",
    "from langchain.chat_models import ChatOpenAI\n",
    "\n",
    "from tools import GetPostIDsByDate, GetKeywordsVoteTrend\n"
   ]
  },
  {
   "cell_type": "code",
   "execution_count": null,
   "metadata": {},
   "outputs": [],
   "source": [
    "llm = ChatOpenAI(model_name=\"gpt-3.5-turbo\",\n",
    "                 streaming=True,\n",
    "                 verbose=True,\n",
    "                 temperature=0,\n",
    "                 client=None)\n",
    "tools = [GetPostIDsByDate(), GetKeywordsVoteTrend()]\n",
    "agent = initialize_agent(\n",
    "    tools, llm, agent=AgentType.ZERO_SHOT_REACT_DESCRIPTION, verbose=True)\n"
   ]
  },
  {
   "cell_type": "code",
   "execution_count": null,
   "metadata": {},
   "outputs": [],
   "source": [
    "prompt = \"\"\"\n",
    "Give me the upvote/downvote trend of this word: \"柯文哲\".\n",
    "No need to be accurate, just give me a rough idea.\n",
    "\"\"\"\n",
    "pprint(agent.run(prompt))"
   ]
  }
 ],
 "metadata": {
  "kernelspec": {
   "display_name": "cllt",
   "language": "python",
   "name": "python3"
  },
  "language_info": {
   "codemirror_mode": {
    "name": "ipython",
    "version": 3
   },
   "file_extension": ".py",
   "mimetype": "text/x-python",
   "name": "python",
   "nbconvert_exporter": "python",
   "pygments_lexer": "ipython3",
   "version": "3.9.16"
  },
  "orig_nbformat": 4
 },
 "nbformat": 4,
 "nbformat_minor": 2
}
